#Display the output
Print("New file")
